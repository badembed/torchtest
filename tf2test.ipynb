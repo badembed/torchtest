{
 "cells": [
  {
   "cell_type": "code",
   "execution_count": 1,
   "metadata": {},
   "outputs": [
    {
     "name": "stdout",
     "output_type": "stream",
     "text": [
      "2.0.0-rc1\n"
     ]
    }
   ],
   "source": [
    "import tensorflow as tf\n",
    "import numpy as np\n",
    "\n",
    "print(tf.__version__)"
   ]
  },
  {
   "cell_type": "code",
   "execution_count": 2,
   "metadata": {},
   "outputs": [],
   "source": [
    "sess = tf.compat.v1.InteractiveSession()"
   ]
  },
  {
   "cell_type": "code",
   "execution_count": 3,
   "metadata": {},
   "outputs": [
    {
     "name": "stdout",
     "output_type": "stream",
     "text": [
      "(1, 4, 4, 1)\n"
     ]
    }
   ],
   "source": [
    "input = tf.constant(np.arange(16.).reshape(1,1,4,4))\n",
    "input = tf.transpose(input, [0, 2, 3, 1])\n",
    "print(input.get_shape())"
   ]
  },
  {
   "cell_type": "code",
   "execution_count": 4,
   "metadata": {},
   "outputs": [],
   "source": [
    "block_shape = [2,2]\n",
    "pad = [[0, 0], [0, 0]]\n",
    "l1 = tf.space_to_batch(input, paddings=pad, block_shape=block_shape)"
   ]
  },
  {
   "cell_type": "code",
   "execution_count": 5,
   "metadata": {},
   "outputs": [],
   "source": [
    "#print(l1)"
   ]
  },
  {
   "cell_type": "code",
   "execution_count": 6,
   "metadata": {},
   "outputs": [
    {
     "name": "stdout",
     "output_type": "stream",
     "text": [
      "tf.Tensor(\n",
      "[[[[ 0.  2.]\n",
      "   [ 8. 10.]]]\n",
      "\n",
      "\n",
      " [[[ 1.  3.]\n",
      "   [ 9. 11.]]]\n",
      "\n",
      "\n",
      " [[[ 4.  6.]\n",
      "   [12. 14.]]]\n",
      "\n",
      "\n",
      " [[[ 5.  7.]\n",
      "   [13. 15.]]]], shape=(4, 1, 2, 2), dtype=float64)\n"
     ]
    }
   ],
   "source": [
    "out = tf.transpose(l1, [0, 3, 1, 2])\n",
    "#print(out.get_shape())\n",
    "print(out)"
   ]
  },
  {
   "cell_type": "code",
   "execution_count": null,
   "metadata": {},
   "outputs": [],
   "source": []
  }
 ],
 "metadata": {
  "kernelspec": {
   "display_name": "Python 3",
   "language": "python",
   "name": "python3"
  },
  "language_info": {
   "codemirror_mode": {
    "name": "ipython",
    "version": 3
   },
   "file_extension": ".py",
   "mimetype": "text/x-python",
   "name": "python",
   "nbconvert_exporter": "python",
   "pygments_lexer": "ipython3",
   "version": "3.5.2"
  }
 },
 "nbformat": 4,
 "nbformat_minor": 4
}
