{
 "cells": [
  {
   "cell_type": "code",
   "execution_count": 1,
   "metadata": {},
   "outputs": [],
   "source": [
    "import tensorflow as tf\n",
    "import numpy as np\n",
    "%load_ext wurlitzer"
   ]
  },
  {
   "cell_type": "code",
   "execution_count": 2,
   "metadata": {},
   "outputs": [
    {
     "name": "stderr",
     "output_type": "stream",
     "text": [
      "2020-03-09 18:24:43.222807: I tensorflow/core/platform/cpu_feature_guard.cc:141] Your CPU supports instructions that this TensorFlow binary was not compiled to use: AVX2 FMA\n",
      "2020-03-09 18:24:43.249558: I tensorflow/core/platform/profile_utils/cpu_utils.cc:94] CPU Frequency: 1992000000 Hz\n",
      "2020-03-09 18:24:43.251098: I tensorflow/compiler/xla/service/service.cc:150] XLA service 0x599cdb0 executing computations on platform Host. Devices:\n",
      "2020-03-09 18:24:43.251157: I tensorflow/compiler/xla/service/service.cc:158]   StreamExecutor device (0): <undefined>, <undefined>\n"
     ]
    }
   ],
   "source": [
    "sess = tf.InteractiveSession()"
   ]
  },
  {
   "cell_type": "code",
   "execution_count": 3,
   "metadata": {},
   "outputs": [],
   "source": [
    "def print_tsr(tsr):\n",
    "    with sess.as_default():\n",
    "        print_op = tf.print(tsr)\n",
    "        with tf.control_dependencies([print_op]):\n",
    "            out = tf.add(tsr, tsr)\n",
    "            sess.run(out)\n",
    "    "
   ]
  },
  {
   "cell_type": "code",
   "execution_count": 4,
   "metadata": {},
   "outputs": [
    {
     "name": "stdout",
     "output_type": "stream",
     "text": [
      "Tensor(\"Const:0\", shape=(1, 4, 8, 8), dtype=float64)\n"
     ]
    },
    {
     "name": "stderr",
     "output_type": "stream",
     "text": [
      "[[[[0 1 2 ... 5 6 7]\n",
      "   [8 9 10 ... 13 14 15]\n",
      "   [16 17 18 ... 21 22 23]\n",
      "   ...\n",
      "   [40 41 42 ... 45 46 47]\n",
      "   [48 49 50 ... 53 54 55]\n",
      "   [56 57 58 ... 61 62 63]]\n",
      "\n",
      "  [[64 65 66 ... 69 70 71]\n",
      "   [72 73 74 ... 77 78 79]\n",
      "   [80 81 82 ... 85 86 87]\n",
      "   ...\n",
      "   [104 105 106 ... 109 110 111]\n",
      "   [112 113 114 ... 117 118 119]\n",
      "   [120 121 122 ... 125 126 127]]\n",
      "\n",
      "  [[128 129 130 ... 133 134 135]\n",
      "   [136 137 138 ... 141 142 143]\n",
      "   [144 145 146 ... 149 150 151]\n",
      "   ...\n",
      "   [168 169 170 ... 173 174 175]\n",
      "   [176 177 178 ... 181 182 183]\n",
      "   [184 185 186 ... 189 190 191]]\n",
      "\n",
      "  [[192 193 194 ... 197 198 199]\n",
      "   [200 201 202 ... 205 206 207]\n",
      "   [208 209 210 ... 213 214 215]\n",
      "   ...\n",
      "   [232 233 234 ... 237 238 239]\n",
      "   [240 241 242 ... 245 246 247]\n",
      "   [248 249 250 ... 253 254 255]]]]\n"
     ]
    }
   ],
   "source": [
    "#input = np.array([1,2,3,4,5,6,7,8]).reshape([1, 2, 2, 2])\n",
    "input = tf.constant(np.arange(256.).reshape(1,4,8,8))\n",
    "print(input)\n",
    "print_tsr(input)"
   ]
  },
  {
   "cell_type": "code",
   "execution_count": 5,
   "metadata": {},
   "outputs": [],
   "source": [
    "block_size = 2\n",
    "pad = [[0, 0], [0, 0]]\n",
    "l1 = tf.space_to_batch(input, pad, block_size=block_size)"
   ]
  },
  {
   "cell_type": "code",
   "execution_count": 6,
   "metadata": {},
   "outputs": [
    {
     "name": "stdout",
     "output_type": "stream",
     "text": [
      "Tensor(\"SpaceToBatchND:0\", shape=(4, 2, 4, 8), dtype=float64)\n"
     ]
    },
    {
     "name": "stderr",
     "output_type": "stream",
     "text": [
      "[[[[0 1 2 ... 5 6 7]\n",
      "   [16 17 18 ... 21 22 23]\n",
      "   [32 33 34 ... 37 38 39]\n",
      "   [48 49 50 ... 53 54 55]]\n",
      "\n",
      "  [[128 129 130 ... 133 134 135]\n",
      "   [144 145 146 ... 149 150 151]\n",
      "   [160 161 162 ... 165 166 167]\n",
      "   [176 177 178 ... 181 182 183]]]\n",
      "\n",
      "\n",
      " [[[8 9 10 ... 13 14 15]\n",
      "   [24 25 26 ... 29 30 31]\n",
      "   [40 41 42 ... 45 46 47]\n",
      "   [56 57 58 ... 61 62 63]]\n",
      "\n",
      "  [[136 137 138 ... 141 142 143]\n",
      "   [152 153 154 ... 157 158 159]\n",
      "   [168 169 170 ... 173 174 175]\n",
      "   [184 185 186 ... 189 190 191]]]\n",
      "\n",
      "\n",
      " [[[64 65 66 ... 69 70 71]\n",
      "   [80 81 82 ... 85 86 87]\n",
      "   [96 97 98 ... 101 102 103]\n",
      "   [112 113 114 ... 117 118 119]]\n",
      "\n",
      "  [[192 193 194 ... 197 198 199]\n",
      "   [208 209 210 ... 213 214 215]\n",
      "   [224 225 226 ... 229 230 231]\n",
      "   [240 241 242 ... 245 246 247]]]\n",
      "\n",
      "\n",
      " [[[72 73 74 ... 77 78 79]\n",
      "   [88 89 90 ... 93 94 95]\n",
      "   [104 105 106 ... 109 110 111]\n",
      "   [120 121 122 ... 125 126 127]]\n",
      "\n",
      "  [[200 201 202 ... 205 206 207]\n",
      "   [216 217 218 ... 221 222 223]\n",
      "   [232 233 234 ... 237 238 239]\n",
      "   [248 249 250 ... 253 254 255]]]]\n"
     ]
    }
   ],
   "source": [
    "print(l1)\n",
    "print_tsr(l1)"
   ]
  },
  {
   "cell_type": "code",
   "execution_count": null,
   "metadata": {},
   "outputs": [],
   "source": []
  },
  {
   "cell_type": "code",
   "execution_count": null,
   "metadata": {},
   "outputs": [],
   "source": []
  }
 ],
 "metadata": {
  "kernelspec": {
   "display_name": "Python 3",
   "language": "python",
   "name": "python3"
  },
  "language_info": {
   "codemirror_mode": {
    "name": "ipython",
    "version": 3
   },
   "file_extension": ".py",
   "mimetype": "text/x-python",
   "name": "python",
   "nbconvert_exporter": "python",
   "pygments_lexer": "ipython3",
   "version": "3.5.2"
  }
 },
 "nbformat": 4,
 "nbformat_minor": 2
}
