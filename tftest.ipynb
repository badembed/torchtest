{
 "cells": [
  {
   "cell_type": "code",
   "execution_count": 1,
   "metadata": {},
   "outputs": [],
   "source": [
    "import tensorflow as tf\n",
    "import numpy as np\n",
    "%load_ext wurlitzer"
   ]
  },
  {
   "cell_type": "code",
   "execution_count": 2,
   "metadata": {},
   "outputs": [
    {
     "name": "stderr",
     "output_type": "stream",
     "text": [
      "2020-03-08 19:44:37.406263: I tensorflow/core/platform/cpu_feature_guard.cc:141] Your CPU supports instructions that this TensorFlow binary was not compiled to use: AVX2 FMA\n",
      "2020-03-08 19:44:37.437134: I tensorflow/core/platform/profile_utils/cpu_utils.cc:94] CPU Frequency: 1992000000 Hz\n",
      "2020-03-08 19:44:37.439188: I tensorflow/compiler/xla/service/service.cc:150] XLA service 0x5ac1170 executing computations on platform Host. Devices:\n",
      "2020-03-08 19:44:37.439268: I tensorflow/compiler/xla/service/service.cc:158]   StreamExecutor device (0): <undefined>, <undefined>\n"
     ]
    }
   ],
   "source": [
    "sess = tf.InteractiveSession()"
   ]
  },
  {
   "cell_type": "code",
   "execution_count": 9,
   "metadata": {},
   "outputs": [
    {
     "name": "stdout",
     "output_type": "stream",
     "text": [
      "Tensor(\"Const_2:0\", shape=(1, 4, 4, 2), dtype=float64)\n"
     ]
    },
    {
     "name": "stderr",
     "output_type": "stream",
     "text": [
      "[[[[0 1]\n",
      "   [2 3]\n",
      "   [4 5]\n",
      "   [6 7]]\n",
      "\n",
      "  [[8 9]\n",
      "   [10 11]\n",
      "   [12 13]\n",
      "   [14 15]]\n",
      "\n",
      "  [[16 17]\n",
      "   [18 19]\n",
      "   [20 21]\n",
      "   [22 23]]\n",
      "\n",
      "  [[24 25]\n",
      "   [26 27]\n",
      "   [28 29]\n",
      "   [30 31]]]]\n"
     ]
    }
   ],
   "source": [
    "t = tf.constant(np.arange(32.).reshape(1,4,4,2))\n",
    "print(t)\n",
    "with sess.as_default():\n",
    "    print_op = tf.print(t)\n",
    "    with tf.control_dependencies([print_op]):\n",
    "        out = tf.add(t, t)\n",
    "        sess.run(out)"
   ]
  },
  {
   "cell_type": "code",
   "execution_count": 4,
   "metadata": {},
   "outputs": [],
   "source": [
    "block_size = 2\n",
    "input = np.array([1,2,3,4,5,6,7,8]).reshape([1, 4, 4, 2])\n",
    "crops = np.zeros((2, 2), dtype=np.int32)\n",
    "pad = [[0, 0], [0, 0]]"
   ]
  },
  {
   "cell_type": "code",
   "execution_count": 5,
   "metadata": {},
   "outputs": [],
   "source": [
    "l1 = tf.space_to_batch(input, pad, block_size=block_size)"
   ]
  },
  {
   "cell_type": "code",
   "execution_count": 6,
   "metadata": {},
   "outputs": [
    {
     "name": "stderr",
     "output_type": "stream",
     "text": [
      "[[[[1 2]]]\n",
      "\n",
      "\n",
      " [[[3 4]]]\n",
      "\n",
      "\n",
      " [[[5 6]]]\n",
      "\n",
      "\n",
      " [[[7 8]]]]\n"
     ]
    }
   ],
   "source": [
    "sess = tf.Session()\n",
    "with sess.as_default():\n",
    "    print_op = tf.print(l1)\n",
    "    with tf.control_dependencies([print_op]):\n",
    "        out = tf.add(l1, l1)\n",
    "        sess.run(out)\n"
   ]
  },
  {
   "cell_type": "code",
   "execution_count": 7,
   "metadata": {},
   "outputs": [
    {
     "name": "stdout",
     "output_type": "stream",
     "text": [
      "Tensor(\"SpaceToBatchND:0\", shape=(4, 1, 1, 2), dtype=int64)\n"
     ]
    }
   ],
   "source": [
    "print(l1)"
   ]
  },
  {
   "cell_type": "code",
   "execution_count": null,
   "metadata": {},
   "outputs": [],
   "source": []
  }
 ],
 "metadata": {
  "kernelspec": {
   "display_name": "Python 3",
   "language": "python",
   "name": "python3"
  },
  "language_info": {
   "codemirror_mode": {
    "name": "ipython",
    "version": 3
   },
   "file_extension": ".py",
   "mimetype": "text/x-python",
   "name": "python",
   "nbconvert_exporter": "python",
   "pygments_lexer": "ipython3",
   "version": "3.5.2"
  }
 },
 "nbformat": 4,
 "nbformat_minor": 2
}
