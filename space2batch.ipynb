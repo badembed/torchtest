{
 "cells": [
  {
   "cell_type": "code",
   "execution_count": 1,
   "metadata": {},
   "outputs": [],
   "source": [
    "import torch\n",
    "import numpy as np"
   ]
  },
  {
   "cell_type": "code",
   "execution_count": 2,
   "metadata": {},
   "outputs": [
    {
     "name": "stdout",
     "output_type": "stream",
     "text": [
      "torch.Size([1, 1, 4, 4])\n",
      "tensor([[[[ 0,  1,  2,  3],\n",
      "          [ 4,  5,  6,  7],\n",
      "          [ 8,  9, 10, 11],\n",
      "          [12, 13, 14, 15]]]])\n"
     ]
    }
   ],
   "source": [
    "input = torch.tensor(np.array([0,1,2,3,4,5,6,7,8,9,10,11,12,13,14,15]))\n",
    "l1 = input.view(1, 1, 4, 4)\n",
    "print(l1.size())\n",
    "print(l1)"
   ]
  },
  {
   "cell_type": "code",
   "execution_count": 3,
   "metadata": {},
   "outputs": [
    {
     "name": "stdout",
     "output_type": "stream",
     "text": [
      "Channel 0:\n",
      "[[ 0  1  2  3]\n",
      " [ 4  5  6  7]\n",
      " [ 8  9 10 11]\n",
      " [12 13 14 15]]\n"
     ]
    }
   ],
   "source": [
    "print(\"Channel 0:\")\n",
    "print(l1[0][0].data.cpu().numpy())"
   ]
  },
  {
   "cell_type": "code",
   "execution_count": 4,
   "metadata": {},
   "outputs": [
    {
     "name": "stdout",
     "output_type": "stream",
     "text": [
      "tensor([[[[ 0,  1,  2,  3,  4,  5,  6,  7]],\n",
      "\n",
      "         [[ 8,  9, 10, 11, 12, 13, 14, 15]]]])\n"
     ]
    }
   ],
   "source": [
    "l2 = input.view(1, 2, 1, 8)\n",
    "print(l2)"
   ]
  },
  {
   "cell_type": "code",
   "execution_count": 5,
   "metadata": {},
   "outputs": [
    {
     "name": "stdout",
     "output_type": "stream",
     "text": [
      "torch.Size([1, 8, 1, 2])\n",
      "tensor([[[[ 0,  8]],\n",
      "\n",
      "         [[ 1,  9]],\n",
      "\n",
      "         [[ 2, 10]],\n",
      "\n",
      "         [[ 3, 11]],\n",
      "\n",
      "         [[ 4, 12]],\n",
      "\n",
      "         [[ 5, 13]],\n",
      "\n",
      "         [[ 6, 14]],\n",
      "\n",
      "         [[ 7, 15]]]])\n"
     ]
    }
   ],
   "source": [
    "l3 = l2.permute(0, 3, 2, 1)\n",
    "print(l3.size())\n",
    "print(l3)"
   ]
  },
  {
   "cell_type": "code",
   "execution_count": 6,
   "metadata": {},
   "outputs": [
    {
     "name": "stdout",
     "output_type": "stream",
     "text": [
      "tensor([[[[ 0,  8,  1,  9]],\n",
      "\n",
      "         [[ 2, 10,  3, 11]]],\n",
      "\n",
      "\n",
      "        [[[ 4, 12,  5, 13]],\n",
      "\n",
      "         [[ 6, 14,  7, 15]]]])\n"
     ]
    }
   ],
   "source": [
    "l4 = l3.contiguous().view(2, 2, 1, 4)\n",
    "print(l4)"
   ]
  },
  {
   "cell_type": "code",
   "execution_count": 7,
   "metadata": {},
   "outputs": [
    {
     "name": "stdout",
     "output_type": "stream",
     "text": [
      "torch.Size([2, 4, 1, 2])\n",
      "tensor([[[[ 0,  2]],\n",
      "\n",
      "         [[ 8, 10]],\n",
      "\n",
      "         [[ 1,  3]],\n",
      "\n",
      "         [[ 9, 11]]],\n",
      "\n",
      "\n",
      "        [[[ 4,  6]],\n",
      "\n",
      "         [[12, 14]],\n",
      "\n",
      "         [[ 5,  7]],\n",
      "\n",
      "         [[13, 15]]]])\n"
     ]
    }
   ],
   "source": [
    "l5 = l4.permute(0, 3, 2, 1)\n",
    "print(l5.size())\n",
    "print(l5)"
   ]
  },
  {
   "cell_type": "code",
   "execution_count": 8,
   "metadata": {},
   "outputs": [
    {
     "name": "stdout",
     "output_type": "stream",
     "text": [
      "tensor([[[[ 0,  2],\n",
      "          [ 8, 10]],\n",
      "\n",
      "         [[ 1,  3],\n",
      "          [ 9, 11]],\n",
      "\n",
      "         [[ 4,  6],\n",
      "          [12, 14]],\n",
      "\n",
      "         [[ 5,  7],\n",
      "          [13, 15]]]])\n"
     ]
    }
   ],
   "source": [
    "l6 = l5.contiguous().view(1, 4, 2, 2)\n",
    "print(l6)"
   ]
  },
  {
   "cell_type": "code",
   "execution_count": 9,
   "metadata": {},
   "outputs": [
    {
     "name": "stdout",
     "output_type": "stream",
     "text": [
      "Channel 0:\n",
      "[[ 0  2]\n",
      " [ 8 10]]\n"
     ]
    }
   ],
   "source": [
    "print(\"Channel 0:\")\n",
    "print(l6[0][0].data.cpu().numpy())"
   ]
  },
  {
   "cell_type": "code",
   "execution_count": 10,
   "metadata": {},
   "outputs": [
    {
     "name": "stdout",
     "output_type": "stream",
     "text": [
      "Channel 1:\n",
      "[[ 1  3]\n",
      " [ 9 11]]\n"
     ]
    }
   ],
   "source": [
    "print(\"Channel 1:\")\n",
    "print(l6[0][1].data.cpu().numpy())"
   ]
  },
  {
   "cell_type": "code",
   "execution_count": 11,
   "metadata": {},
   "outputs": [
    {
     "name": "stdout",
     "output_type": "stream",
     "text": [
      "Channel 2:\n",
      "[[ 4  6]\n",
      " [12 14]]\n"
     ]
    }
   ],
   "source": [
    "print(\"Channel 2:\")\n",
    "print(l6[0][2].data.cpu().numpy())"
   ]
  },
  {
   "cell_type": "code",
   "execution_count": 12,
   "metadata": {},
   "outputs": [
    {
     "name": "stdout",
     "output_type": "stream",
     "text": [
      "Channel 3:\n",
      "[[ 5  7]\n",
      " [13 15]]\n"
     ]
    }
   ],
   "source": [
    "print(\"Channel 3:\")\n",
    "print(l6[0][3].data.cpu().numpy())"
   ]
  }
 ],
 "metadata": {
  "kernelspec": {
   "display_name": "Python 3",
   "language": "python",
   "name": "python3"
  },
  "language_info": {
   "codemirror_mode": {
    "name": "ipython",
    "version": 3
   },
   "file_extension": ".py",
   "mimetype": "text/x-python",
   "name": "python",
   "nbconvert_exporter": "python",
   "pygments_lexer": "ipython3",
   "version": "3.5.2"
  }
 },
 "nbformat": 4,
 "nbformat_minor": 2
}
